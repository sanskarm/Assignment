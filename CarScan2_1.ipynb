{
  "nbformat": 4,
  "nbformat_minor": 0,
  "metadata": {
    "colab": {
      "name": "CarScan2.1.ipynb",
      "provenance": [],
      "collapsed_sections": []
    },
    "kernelspec": {
      "name": "python3",
      "display_name": "Python 3"
    },
    "language_info": {
      "name": "python"
    },
    "accelerator": "GPU"
  },
  "cells": [
    {
      "cell_type": "code",
      "execution_count": 1,
      "metadata": {
        "id": "xinpaNboIgpi"
      },
      "outputs": [],
      "source": [
        "data = '/content/drive/MyDrive/data1a/training'\n",
        "val_data = '/content/drive/MyDrive/data1a/validation'"
      ]
    },
    {
      "cell_type": "code",
      "source": [
        "import numpy as np\n",
        "import os\n",
        "from google.colab.patches import cv2_imshow\n",
        "from IPython.display import Image\n",
        "from sklearn.utils import shuffle\n",
        "import cv2\n",
        "from keras.preprocessing.image import ImageDataGenerator"
      ],
      "metadata": {
        "id": "oFjtstA6QrOQ"
      },
      "execution_count": 2,
      "outputs": []
    },
    {
      "cell_type": "code",
      "source": [
        "train = []\n",
        "label = []\n",
        "val = []\n",
        "vlabel = []"
      ],
      "metadata": {
        "id": "laBYMOA_hh2C"
      },
      "execution_count": 3,
      "outputs": []
    },
    {
      "cell_type": "code",
      "source": [
        "for i in os.listdir(data):\n",
        "  j = os.path.join(data,i)\n",
        "  for k in os.listdir(j):\n",
        "    image = os.path.join(j,k)\n",
        "    img = cv2.imread(image)\n",
        "    resized = cv2.resize(img, (100,100), interpolation = cv2.INTER_AREA)\n",
        "    train.append(resized)\n",
        "    if(i==\"00-damage\"):\n",
        "      label.append(1)\n",
        "    else:\n",
        "      label.append(0)\n",
        "for i in os.listdir(val_data):\n",
        "  j = os.path.join(val_data,i)\n",
        "  for k in os.listdir(j):\n",
        "    image = os.path.join(j,k)\n",
        "    img = cv2.imread(image)\n",
        "    resized = cv2.resize(img, (100,100), interpolation = cv2.INTER_AREA)\n",
        "    val.append(resized)\n",
        "    if(i==\"00-damage\"):\n",
        "      vlabel.append(1)\n",
        "    else:\n",
        "      vlabel.append(0)"
      ],
      "metadata": {
        "id": "xV420N2rgLio"
      },
      "execution_count": 4,
      "outputs": []
    },
    {
      "cell_type": "code",
      "source": [
        "print(len(train))\n",
        "damages = 0\n",
        "for i in label:\n",
        "  if(i==1):\n",
        "    damages = damages+1\n",
        "print(damages)\n",
        "print(len(train)-damages)\n",
        "print(len(val))\n",
        "vdamages = 0\n",
        "for i in vlabel:\n",
        "  if(i==1):\n",
        "    vdamages = vdamages+1\n",
        "print(vdamages)\n",
        "print(len(val)-vdamages)"
      ],
      "metadata": {
        "colab": {
          "base_uri": "https://localhost:8080/"
        },
        "id": "QB1CTgRXiDrI",
        "outputId": "af4581af-3477-47e1-d637-87a0919a115f"
      },
      "execution_count": 5,
      "outputs": [
        {
          "output_type": "stream",
          "name": "stdout",
          "text": [
            "1840\n",
            "920\n",
            "920\n",
            "460\n",
            "230\n",
            "230\n"
          ]
        }
      ]
    },
    {
      "cell_type": "code",
      "source": [
        "X = np.asarray(train)\n",
        "Y = np.asarray(label)\n",
        "x = np.asarray(val)\n",
        "y = np.asarray(vlabel)"
      ],
      "metadata": {
        "id": "rjYaExH_im7z"
      },
      "execution_count": 6,
      "outputs": []
    },
    {
      "cell_type": "code",
      "source": [
        "i = 150\n",
        "cv2_imshow(x[i])\n",
        "print(y[i])"
      ],
      "metadata": {
        "colab": {
          "base_uri": "https://localhost:8080/",
          "height": 134
        },
        "id": "cdXCwnR-jt0Z",
        "outputId": "3a255b3d-2216-47eb-8083-94ed6821fb64"
      },
      "execution_count": 7,
      "outputs": [
        {
          "output_type": "display_data",
          "data": {
            "text/plain": [
              "<PIL.Image.Image image mode=RGB size=100x100 at 0x7F5328B45E10>"
            ],
            "image/png": "[encoded data removed]"
          },
          "metadata": {}
        },
        {
          "output_type": "stream",
          "name": "stdout",
          "text": [
            "0\n"
          ]
        }
      ]
    },
    {
      "cell_type": "code",
      "source": [
        "X,Y = shuffle(X,Y)\n",
        "x,y = shuffle(x,y)\n",
        "Y = tf.one_hot(Y,2)\n",
        "y = tf.one_hot(y,2)"
      ],
      "metadata": {
        "id": "dupWJd4EWB30"
      },
      "execution_count": 10,
      "outputs": []
    },
    {
      "cell_type": "code",
      "source": [
        "np.shape(Y)"
      ],
      "metadata": {
        "colab": {
          "base_uri": "https://localhost:8080/"
        },
        "id": "8AOul7ptZiV8",
        "outputId": "0baeed18-2f5e-48ab-bff7-2318b000c396"
      },
      "execution_count": 11,
      "outputs": [
        {
          "output_type": "execute_result",
          "data": {
            "text/plain": [
              "TensorShape([1840, 2])"
            ]
          },
          "metadata": {},
          "execution_count": 11
        }
      ]
    },
    {
      "cell_type": "code",
      "source": [
        "Y = np.asarray(Y)\n",
        "y = np.asarray(y)"
      ],
      "metadata": {
        "id": "qlz4EN0ubPNY"
      },
      "execution_count": 12,
      "outputs": []
    },
    {
      "cell_type": "code",
      "source": [
        "import tensorflow as tf\n",
        "from tensorflow import keras\n",
        "from keras.models import load_model\n",
        "from sklearn.datasets import load_files   \n",
        "from keras.utils import np_utils\n",
        "from glob import glob\n",
        "from keras import applications\n",
        "from keras.preprocessing.image import ImageDataGenerator \n",
        "from keras import optimizers\n",
        "from keras.models import Sequential,Model,load_model\n",
        "from keras.layers import Dense, Dropout, Flatten, Conv2D, MaxPooling2D,GlobalAveragePooling2D,InputLayer,Activation\n",
        "from keras.callbacks import TensorBoard,ReduceLROnPlateau,ModelCheckpoint"
      ],
      "metadata": {
        "id": "MgPJ0lNIdKpl"
      },
      "execution_count": 13,
      "outputs": []
    },
    {
      "cell_type": "code",
      "source": [
        "model = Sequential()\n",
        "model.add(InputLayer((100,100,3)))\n",
        "model.add(Conv2D(16,(5,5),padding='valid'))\n",
        "model.add(Activation('relu'))\n",
        "model.add(MaxPooling2D(pool_size=(2,2),strides=2,padding = 'valid'))\n",
        "model.add(Dropout(0.4))\n",
        "model.add(Conv2D(32,(5,5),padding='valid'))\n",
        "model.add(Activation('relu'))\n",
        "model.add(MaxPooling2D(pool_size=(2,2),strides=2,padding = 'valid'))\n",
        "model.add(Dropout(0.6))\n",
        "model.add(Conv2D(64,(5,5),padding='valid'))\n",
        "model.add(Activation('relu'))\n",
        "model.add(Dropout(0.8))\n",
        "model.add(Flatten())\n",
        "model.add(Dense(2))\n",
        "model.add(Activation('softmax'))\n",
        "\n",
        "batch_size = 32\n",
        "epochs= 100\n",
        "optimizer = keras.optimizers.RMSprop(lr = 0.0002, decay = 1e-8)\n",
        "model.compile(loss = 'binary_crossentropy',optimizer = optimizer, metrics = ['accuracy',keras.metrics.Precision(), keras.metrics.Recall()])\n",
        "history = model.fit(X,Y,steps_per_epoch = int(1840/batch_size),epochs=epochs)\n",
        "history"
      ],
      "metadata": {
        "colab": {
          "base_uri": "https://localhost:8080/"
        },
        "id": "bQ8t07kCdJvE",
        "outputId": "9f729681-4141-4805-9dcb-4b3c8b4bbf5b"
      },
      "execution_count": 20,
      "outputs": [
        {
          "output_type": "stream",
          "name": "stdout",
          "text": [
            "Epoch 1/100\n"
          ]
        },
        {
          "output_type": "stream",
          "name": "stderr",
          "text": [
            "/usr/local/lib/python3.7/dist-packages/keras/optimizer_v2/rmsprop.py:130: UserWarning: The `lr` argument is deprecated, use `learning_rate` instead.\n",
            "  super(RMSprop, self).__init__(name, **kwargs)\n"
          ]
        },
        {
          "output_type": "stream",
          "name": "stdout",
          "text": [
            "57/57 [==============================] - 3s 23ms/step - loss: 8.8776 - accuracy: 0.5072 - precision_1: 0.5072 - recall_1: 0.5072\n",
            "Epoch 2/100\n",
            "57/57 [==============================] - 1s 21ms/step - loss: 1.7310 - accuracy: 0.5339 - precision_1: 0.5339 - recall_1: 0.5339\n",
            "Epoch 3/100\n",
            "57/57 [==============================] - 1s 21ms/step - loss: 0.8421 - accuracy: 0.5558 - precision_1: 0.5558 - recall_1: 0.5558\n",
            "Epoch 4/100\n",
            "57/57 [==============================] - 1s 22ms/step - loss: 0.7076 - accuracy: 0.5798 - precision_1: 0.5798 - recall_1: 0.5798\n",
            "Epoch 5/100\n",
            "57/57 [==============================] - 1s 21ms/step - loss: 0.6837 - accuracy: 0.6033 - precision_1: 0.6033 - recall_1: 0.6033\n",
            "Epoch 6/100\n",
            "57/57 [==============================] - 1s 21ms/step - loss: 0.6577 - accuracy: 0.6188 - precision_1: 0.6188 - recall_1: 0.6188\n",
            "Epoch 7/100\n",
            "57/57 [==============================] - 1s 21ms/step - loss: 0.6420 - accuracy: 0.6679 - precision_1: 0.6679 - recall_1: 0.6679\n",
            "Epoch 8/100\n",
            "57/57 [==============================] - 1s 22ms/step - loss: 0.6389 - accuracy: 0.6556 - precision_1: 0.6556 - recall_1: 0.6556\n",
            "Epoch 9/100\n",
            "57/57 [==============================] - 1s 22ms/step - loss: 0.6337 - accuracy: 0.6690 - precision_1: 0.6690 - recall_1: 0.6690\n",
            "Epoch 10/100\n",
            "57/57 [==============================] - 1s 22ms/step - loss: 0.6210 - accuracy: 0.6935 - precision_1: 0.6935 - recall_1: 0.6935\n",
            "Epoch 11/100\n",
            "57/57 [==============================] - 1s 22ms/step - loss: 0.6092 - accuracy: 0.6941 - precision_1: 0.6941 - recall_1: 0.6941\n",
            "Epoch 12/100\n",
            "57/57 [==============================] - 1s 22ms/step - loss: 0.6100 - accuracy: 0.6919 - precision_1: 0.6919 - recall_1: 0.6919\n",
            "Epoch 13/100\n",
            "57/57 [==============================] - 1s 21ms/step - loss: 0.5858 - accuracy: 0.7192 - precision_1: 0.7192 - recall_1: 0.7192\n",
            "Epoch 14/100\n",
            "57/57 [==============================] - 1s 21ms/step - loss: 0.5878 - accuracy: 0.7144 - precision_1: 0.7144 - recall_1: 0.7144\n",
            "Epoch 15/100\n",
            "57/57 [==============================] - 1s 21ms/step - loss: 0.5704 - accuracy: 0.7160 - precision_1: 0.7160 - recall_1: 0.7160\n",
            "Epoch 16/100\n",
            "57/57 [==============================] - 1s 21ms/step - loss: 0.5604 - accuracy: 0.7282 - precision_1: 0.7282 - recall_1: 0.7282\n",
            "Epoch 17/100\n",
            "57/57 [==============================] - 1s 22ms/step - loss: 0.5586 - accuracy: 0.7208 - precision_1: 0.7208 - recall_1: 0.7208\n",
            "Epoch 18/100\n",
            "57/57 [==============================] - 1s 21ms/step - loss: 0.5530 - accuracy: 0.7352 - precision_1: 0.7352 - recall_1: 0.7352\n",
            "Epoch 19/100\n",
            "57/57 [==============================] - 1s 21ms/step - loss: 0.5426 - accuracy: 0.7352 - precision_1: 0.7352 - recall_1: 0.7352\n",
            "Epoch 20/100\n",
            "57/57 [==============================] - 1s 21ms/step - loss: 0.5462 - accuracy: 0.7330 - precision_1: 0.7330 - recall_1: 0.7330\n",
            "Epoch 21/100\n",
            "57/57 [==============================] - 1s 21ms/step - loss: 0.5394 - accuracy: 0.7459 - precision_1: 0.7459 - recall_1: 0.7459\n",
            "Epoch 22/100\n",
            "57/57 [==============================] - 1s 21ms/step - loss: 0.5319 - accuracy: 0.7373 - precision_1: 0.7373 - recall_1: 0.7373\n",
            "Epoch 23/100\n",
            "57/57 [==============================] - 1s 21ms/step - loss: 0.5338 - accuracy: 0.7363 - precision_1: 0.7363 - recall_1: 0.7363\n",
            "Epoch 24/100\n",
            "57/57 [==============================] - 1s 21ms/step - loss: 0.5120 - accuracy: 0.7624 - precision_1: 0.7624 - recall_1: 0.7624\n",
            "Epoch 25/100\n",
            "57/57 [==============================] - 1s 22ms/step - loss: 0.5108 - accuracy: 0.7555 - precision_1: 0.7555 - recall_1: 0.7555\n",
            "Epoch 26/100\n",
            "57/57 [==============================] - 1s 22ms/step - loss: 0.5141 - accuracy: 0.7645 - precision_1: 0.7645 - recall_1: 0.7645\n",
            "Epoch 27/100\n",
            "57/57 [==============================] - 1s 21ms/step - loss: 0.5187 - accuracy: 0.7651 - precision_1: 0.7651 - recall_1: 0.7651\n",
            "Epoch 28/100\n",
            "57/57 [==============================] - 1s 21ms/step - loss: 0.5129 - accuracy: 0.7640 - precision_1: 0.7640 - recall_1: 0.7640\n",
            "Epoch 29/100\n",
            "57/57 [==============================] - 1s 21ms/step - loss: 0.4962 - accuracy: 0.7763 - precision_1: 0.7763 - recall_1: 0.7763\n",
            "Epoch 30/100\n",
            "57/57 [==============================] - 1s 22ms/step - loss: 0.4874 - accuracy: 0.7710 - precision_1: 0.7710 - recall_1: 0.7710\n",
            "Epoch 31/100\n",
            "57/57 [==============================] - 1s 21ms/step - loss: 0.5041 - accuracy: 0.7608 - precision_1: 0.7608 - recall_1: 0.7608\n",
            "Epoch 32/100\n",
            "57/57 [==============================] - 1s 22ms/step - loss: 0.5064 - accuracy: 0.7731 - precision_1: 0.7731 - recall_1: 0.7731\n",
            "Epoch 33/100\n",
            "57/57 [==============================] - 1s 21ms/step - loss: 0.5100 - accuracy: 0.7651 - precision_1: 0.7651 - recall_1: 0.7651\n",
            "Epoch 34/100\n",
            "57/57 [==============================] - 1s 21ms/step - loss: 0.4799 - accuracy: 0.7822 - precision_1: 0.7822 - recall_1: 0.7822\n",
            "Epoch 35/100\n",
            "57/57 [==============================] - 1s 22ms/step - loss: 0.4705 - accuracy: 0.7838 - precision_1: 0.7838 - recall_1: 0.7838\n",
            "Epoch 36/100\n",
            "57/57 [==============================] - 1s 22ms/step - loss: 0.4973 - accuracy: 0.7816 - precision_1: 0.7816 - recall_1: 0.7816\n",
            "Epoch 37/100\n",
            "57/57 [==============================] - 1s 23ms/step - loss: 0.4509 - accuracy: 0.8025 - precision_1: 0.8025 - recall_1: 0.8025\n",
            "Epoch 38/100\n",
            "57/57 [==============================] - 1s 24ms/step - loss: 0.4994 - accuracy: 0.7726 - precision_1: 0.7726 - recall_1: 0.7726\n",
            "Epoch 39/100\n",
            "57/57 [==============================] - 1s 24ms/step - loss: 0.4786 - accuracy: 0.7896 - precision_1: 0.7896 - recall_1: 0.7896\n",
            "Epoch 40/100\n",
            "57/57 [==============================] - 2s 26ms/step - loss: 0.4449 - accuracy: 0.8041 - precision_1: 0.8041 - recall_1: 0.8041\n",
            "Epoch 41/100\n",
            "57/57 [==============================] - 1s 26ms/step - loss: 0.4800 - accuracy: 0.7875 - precision_1: 0.7875 - recall_1: 0.7875\n",
            "Epoch 42/100\n",
            "57/57 [==============================] - 1s 22ms/step - loss: 0.4773 - accuracy: 0.7848 - precision_1: 0.7848 - recall_1: 0.7848\n",
            "Epoch 43/100\n",
            "57/57 [==============================] - 1s 21ms/step - loss: 0.4522 - accuracy: 0.7822 - precision_1: 0.7822 - recall_1: 0.7822\n",
            "Epoch 44/100\n",
            "57/57 [==============================] - 1s 22ms/step - loss: 0.4604 - accuracy: 0.8003 - precision_1: 0.8003 - recall_1: 0.8003\n",
            "Epoch 45/100\n",
            "57/57 [==============================] - 1s 22ms/step - loss: 0.4586 - accuracy: 0.7864 - precision_1: 0.7864 - recall_1: 0.7864\n",
            "Epoch 46/100\n",
            "57/57 [==============================] - 1s 22ms/step - loss: 0.4721 - accuracy: 0.7907 - precision_1: 0.7907 - recall_1: 0.7907\n",
            "Epoch 47/100\n",
            "57/57 [==============================] - 1s 22ms/step - loss: 0.4415 - accuracy: 0.8009 - precision_1: 0.8009 - recall_1: 0.8009\n",
            "Epoch 48/100\n",
            "57/57 [==============================] - 1s 21ms/step - loss: 0.4530 - accuracy: 0.8062 - precision_1: 0.8062 - recall_1: 0.8062\n",
            "Epoch 49/100\n",
            "57/57 [==============================] - 1s 22ms/step - loss: 0.4523 - accuracy: 0.7928 - precision_1: 0.7928 - recall_1: 0.7928\n",
            "Epoch 50/100\n",
            "57/57 [==============================] - 1s 21ms/step - loss: 0.4407 - accuracy: 0.8030 - precision_1: 0.8030 - recall_1: 0.8030\n",
            "Epoch 51/100\n",
            "57/57 [==============================] - 1s 22ms/step - loss: 0.4220 - accuracy: 0.8137 - precision_1: 0.8137 - recall_1: 0.8137\n",
            "Epoch 52/100\n",
            "57/57 [==============================] - 1s 22ms/step - loss: 0.4482 - accuracy: 0.8062 - precision_1: 0.8062 - recall_1: 0.8062\n",
            "Epoch 53/100\n",
            "57/57 [==============================] - 1s 22ms/step - loss: 0.4315 - accuracy: 0.8110 - precision_1: 0.8110 - recall_1: 0.8110\n",
            "Epoch 54/100\n",
            "57/57 [==============================] - 1s 22ms/step - loss: 0.4523 - accuracy: 0.7928 - precision_1: 0.7928 - recall_1: 0.7928\n",
            "Epoch 55/100\n",
            "57/57 [==============================] - 1s 22ms/step - loss: 0.4284 - accuracy: 0.8099 - precision_1: 0.8099 - recall_1: 0.8099\n",
            "Epoch 56/100\n",
            "57/57 [==============================] - 1s 22ms/step - loss: 0.4192 - accuracy: 0.8214 - precision_1: 0.8214 - recall_1: 0.8214\n",
            "Epoch 57/100\n",
            "57/57 [==============================] - 1s 22ms/step - loss: 0.4174 - accuracy: 0.8174 - precision_1: 0.8174 - recall_1: 0.8174\n",
            "Epoch 58/100\n",
            "57/57 [==============================] - 1s 22ms/step - loss: 0.4207 - accuracy: 0.8179 - precision_1: 0.8179 - recall_1: 0.8179\n",
            "Epoch 59/100\n",
            "57/57 [==============================] - 1s 22ms/step - loss: 0.4228 - accuracy: 0.8147 - precision_1: 0.8147 - recall_1: 0.8147\n",
            "Epoch 60/100\n",
            "57/57 [==============================] - 1s 22ms/step - loss: 0.4065 - accuracy: 0.8238 - precision_1: 0.8238 - recall_1: 0.8238\n",
            "Epoch 61/100\n",
            "57/57 [==============================] - 1s 22ms/step - loss: 0.4228 - accuracy: 0.8153 - precision_1: 0.8153 - recall_1: 0.8153\n",
            "Epoch 62/100\n",
            "57/57 [==============================] - 1s 22ms/step - loss: 0.4167 - accuracy: 0.8105 - precision_1: 0.8105 - recall_1: 0.8105\n",
            "Epoch 63/100\n",
            "57/57 [==============================] - 1s 22ms/step - loss: 0.4111 - accuracy: 0.8195 - precision_1: 0.8195 - recall_1: 0.8195\n",
            "Epoch 64/100\n",
            "57/57 [==============================] - 1s 22ms/step - loss: 0.4077 - accuracy: 0.8185 - precision_1: 0.8185 - recall_1: 0.8185\n",
            "Epoch 65/100\n",
            "57/57 [==============================] - 1s 22ms/step - loss: 0.4202 - accuracy: 0.8238 - precision_1: 0.8238 - recall_1: 0.8238\n",
            "Epoch 66/100\n",
            "57/57 [==============================] - 1s 21ms/step - loss: 0.4156 - accuracy: 0.8126 - precision_1: 0.8126 - recall_1: 0.8126\n",
            "Epoch 67/100\n",
            "57/57 [==============================] - 1s 21ms/step - loss: 0.4122 - accuracy: 0.8238 - precision_1: 0.8238 - recall_1: 0.8238\n",
            "Epoch 68/100\n",
            "57/57 [==============================] - 1s 22ms/step - loss: 0.3984 - accuracy: 0.8270 - precision_1: 0.8270 - recall_1: 0.8270\n",
            "Epoch 69/100\n",
            "57/57 [==============================] - 1s 22ms/step - loss: 0.4089 - accuracy: 0.8206 - precision_1: 0.8206 - recall_1: 0.8206\n",
            "Epoch 70/100\n",
            "57/57 [==============================] - 1s 22ms/step - loss: 0.3990 - accuracy: 0.8340 - precision_1: 0.8340 - recall_1: 0.8340\n",
            "Epoch 71/100\n",
            "57/57 [==============================] - 1s 22ms/step - loss: 0.3978 - accuracy: 0.8318 - precision_1: 0.8318 - recall_1: 0.8318\n",
            "Epoch 72/100\n",
            "57/57 [==============================] - 1s 22ms/step - loss: 0.3932 - accuracy: 0.8297 - precision_1: 0.8297 - recall_1: 0.8297\n",
            "Epoch 73/100\n",
            "57/57 [==============================] - 1s 22ms/step - loss: 0.4281 - accuracy: 0.8137 - precision_1: 0.8137 - recall_1: 0.8137\n",
            "Epoch 74/100\n",
            "57/57 [==============================] - 1s 22ms/step - loss: 0.3901 - accuracy: 0.8286 - precision_1: 0.8286 - recall_1: 0.8286\n",
            "Epoch 75/100\n",
            "57/57 [==============================] - 1s 21ms/step - loss: 0.4115 - accuracy: 0.8243 - precision_1: 0.8243 - recall_1: 0.8243\n",
            "Epoch 76/100\n",
            "57/57 [==============================] - 1s 21ms/step - loss: 0.4094 - accuracy: 0.8201 - precision_1: 0.8201 - recall_1: 0.8201\n",
            "Epoch 77/100\n",
            "57/57 [==============================] - 1s 21ms/step - loss: 0.3811 - accuracy: 0.8398 - precision_1: 0.8398 - recall_1: 0.8398\n",
            "Epoch 78/100\n",
            "57/57 [==============================] - 1s 22ms/step - loss: 0.3869 - accuracy: 0.8356 - precision_1: 0.8356 - recall_1: 0.8356\n",
            "Epoch 79/100\n",
            "57/57 [==============================] - 1s 22ms/step - loss: 0.3919 - accuracy: 0.8457 - precision_1: 0.8457 - recall_1: 0.8457\n",
            "Epoch 80/100\n",
            "57/57 [==============================] - 1s 22ms/step - loss: 0.3956 - accuracy: 0.8217 - precision_1: 0.8217 - recall_1: 0.8217\n",
            "Epoch 81/100\n",
            "57/57 [==============================] - 1s 22ms/step - loss: 0.3958 - accuracy: 0.8297 - precision_1: 0.8297 - recall_1: 0.8297\n",
            "Epoch 82/100\n",
            "57/57 [==============================] - 1s 21ms/step - loss: 0.3793 - accuracy: 0.8340 - precision_1: 0.8340 - recall_1: 0.8340\n",
            "Epoch 83/100\n",
            "57/57 [==============================] - 1s 22ms/step - loss: 0.3684 - accuracy: 0.8340 - precision_1: 0.8340 - recall_1: 0.8340\n",
            "Epoch 84/100\n",
            "57/57 [==============================] - 1s 22ms/step - loss: 0.3709 - accuracy: 0.8420 - precision_1: 0.8420 - recall_1: 0.8420\n",
            "Epoch 85/100\n",
            "57/57 [==============================] - 1s 22ms/step - loss: 0.3838 - accuracy: 0.8414 - precision_1: 0.8414 - recall_1: 0.8414\n",
            "Epoch 86/100\n",
            "57/57 [==============================] - 1s 21ms/step - loss: 0.3812 - accuracy: 0.8324 - precision_1: 0.8324 - recall_1: 0.8324\n",
            "Epoch 87/100\n",
            "57/57 [==============================] - 1s 22ms/step - loss: 0.3753 - accuracy: 0.8393 - precision_1: 0.8393 - recall_1: 0.8393\n",
            "Epoch 88/100\n",
            "57/57 [==============================] - 1s 22ms/step - loss: 0.3635 - accuracy: 0.8468 - precision_1: 0.8468 - recall_1: 0.8468\n",
            "Epoch 89/100\n",
            "57/57 [==============================] - 1s 22ms/step - loss: 0.3695 - accuracy: 0.8425 - precision_1: 0.8425 - recall_1: 0.8425\n",
            "Epoch 90/100\n",
            "57/57 [==============================] - 1s 21ms/step - loss: 0.3885 - accuracy: 0.8350 - precision_1: 0.8350 - recall_1: 0.8350\n",
            "Epoch 91/100\n",
            "57/57 [==============================] - 1s 22ms/step - loss: 0.3664 - accuracy: 0.8430 - precision_1: 0.8430 - recall_1: 0.8430\n",
            "Epoch 92/100\n",
            "57/57 [==============================] - 1s 21ms/step - loss: 0.3822 - accuracy: 0.8324 - precision_1: 0.8324 - recall_1: 0.8324\n",
            "Epoch 93/100\n",
            "57/57 [==============================] - 1s 22ms/step - loss: 0.3807 - accuracy: 0.8436 - precision_1: 0.8436 - recall_1: 0.8436\n",
            "Epoch 94/100\n",
            "57/57 [==============================] - 1s 21ms/step - loss: 0.3461 - accuracy: 0.8510 - precision_1: 0.8510 - recall_1: 0.8510\n",
            "Epoch 95/100\n",
            "57/57 [==============================] - 1s 22ms/step - loss: 0.3794 - accuracy: 0.8313 - precision_1: 0.8313 - recall_1: 0.8313\n",
            "Epoch 96/100\n",
            "57/57 [==============================] - 1s 22ms/step - loss: 0.3710 - accuracy: 0.8425 - precision_1: 0.8425 - recall_1: 0.8425\n",
            "Epoch 97/100\n",
            "57/57 [==============================] - 1s 23ms/step - loss: 0.3639 - accuracy: 0.8436 - precision_1: 0.8436 - recall_1: 0.8436\n",
            "Epoch 98/100\n",
            "57/57 [==============================] - 1s 23ms/step - loss: 0.3463 - accuracy: 0.8436 - precision_1: 0.8436 - recall_1: 0.8436\n",
            "Epoch 99/100\n",
            "12/57 [=====>........................] - ETA: 1s - loss: 0.3605 - accuracy: 0.8561 - precision_1: 0.8561 - recall_1: 0.8561WARNING:tensorflow:Your input ran out of data; interrupting training. Make sure that your dataset or generator can generate at least `steps_per_epoch * epochs` batches (in this case, 5700 batches). You may need to use the repeat() function when building your dataset.\n",
            "57/57 [==============================] - 0s 6ms/step - loss: 0.3357 - accuracy: 0.8700 - precision_1: 0.8700 - recall_1: 0.8700\n"
          ]
        },
        {
          "output_type": "execute_result",
          "data": {
            "text/plain": [
              "<keras.callbacks.History at 0x7f52aec05f10>"
            ]
          },
          "metadata": {},
          "execution_count": 20
        }
      ]
    },
    {
      "cell_type": "code",
      "source": [
        "preds = model.evaluate(x,y)\n",
        "print (\"Loss = \" + str(preds[0]))\n",
        "print (\"Test Accuracy = \" + str(preds[1]))"
      ],
      "metadata": {
        "colab": {
          "base_uri": "https://localhost:8080/"
        },
        "id": "qQVFNUmOfHmP",
        "outputId": "488bd616-9dec-494a-ac3c-4f2936fc0591"
      },
      "execution_count": 15,
      "outputs": [
        {
          "output_type": "stream",
          "name": "stdout",
          "text": [
            "15/15 [==============================] - 1s 17ms/step - loss: 0.6154 - accuracy: 0.7087 - precision: 0.7087 - recall: 0.7087\n",
            "Loss = 0.6154345273971558\n",
            "Test Accuracy = 0.708695650100708\n"
          ]
        }
      ]
    },
    {
      "cell_type": "code",
      "source": [
        "import matplotlib.pyplot as plt\n",
        "plt.plot(history.history['accuracy'])\n",
        "plt.title('model accuracy')\n",
        "plt.ylabel('accuracy')\n",
        "plt.xlabel('epoch')\n",
        "plt.legend(['train'], loc='upper left')\n",
        "plt.show()\n",
        "# \"Loss\"\n",
        "plt.plot(history.history['loss'])\n",
        "# plt.plot(history.history['val_loss'])\n",
        "plt.title('model loss')\n",
        "plt.ylabel('loss')\n",
        "plt.xlabel('epoch')\n",
        "plt.legend(['train'], loc='upper left')\n",
        "plt.show()\n"
      ],
      "metadata": {
        "colab": {
          "base_uri": "https://localhost:8080/",
          "height": 573
        },
        "id": "JopQ6rQHfL9d",
        "outputId": "1da79d5e-4236-4ec3-8999-f41e774d6ec2"
      },
      "execution_count": 18,
      "outputs": [
        {
          "output_type": "display_data",
          "data": {
            "text/plain": [
              "<Figure size 432x288 with 1 Axes>"
            ],
            "image/png": "[encoded data removed]"
          },
          "metadata": {
            "needs_background": "light"
          }
        },
        {
          "output_type": "display_data",
          "data": {
            "text/plain": [
              "<Figure size 432x288 with 1 Axes>"
            ],
            "image/png": "[encoded data removed]"
          },
          "metadata": {
            "needs_background": "light"
          }
        }
      ]
    },
    {
      "cell_type": "code",
      "source": [
        "model.save('/content/sample_data')\n",
        "from tensorflow import keras\n",
        "model = keras.models.load_model('/content/sample_data')"
      ],
      "metadata": {
        "colab": {
          "base_uri": "https://localhost:8080/"
        },
        "id": "rgCfVfJkf0KW",
        "outputId": "d385b2d2-fe12-47c8-970f-517336b4fad8"
      },
      "execution_count": 21,
      "outputs": [
        {
          "output_type": "stream",
          "name": "stdout",
          "text": [
            "INFO:tensorflow:Assets written to: /content/sample_data/assets\n"
          ]
        }
      ]
    },
    {
      "cell_type": "code",
      "source": [
        ""
      ],
      "metadata": {
        "id": "ntzaWf9OhlPV"
      },
      "execution_count": null,
      "outputs": []
    }
  ]
}