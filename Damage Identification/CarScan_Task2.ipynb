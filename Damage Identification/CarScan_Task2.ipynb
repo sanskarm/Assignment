{
  "nbformat": 4,
  "nbformat_minor": 0,
  "metadata": {
    "colab": {
      "name": "CarScan Task2.ipynb",
      "provenance": []
    },
    "kernelspec": {
      "name": "python3",
      "display_name": "Python 3"
    },
    "language_info": {
      "name": "python"
    }
  },
  "cells": [
    {
      "cell_type": "code",
      "source": [
        "image_path = '/content/Assignment-main/Damage Identification/images'\n",
        "json_path = '/content/Assignment-main/Damage Identification/data'"
      ],
      "metadata": {
        "id": "1LzNUkeV-q-M"
      },
      "execution_count": null,
      "outputs": []
    },
    {
      "cell_type": "code",
      "source": [
        "import os\n",
        "import json\n",
        "import numpy as np\n",
        "from shapely.geometry import Polygon"
      ],
      "metadata": {
        "id": "9hdgdAxq_TpF"
      },
      "execution_count": null,
      "outputs": []
    },
    {
      "cell_type": "code",
      "source": [
        "for i in range(len(os.listdir(image_path))):\n",
        "  subpath1 = str(i+1) + \".jpg\"\n",
        "  subpath2 = str(i+1) + \"-car-parts.json\"\n",
        "  subpath3 = str(i+1) + \"-damages.json\"\n",
        "  img_path = os.path.join(image_path,subpath1)\n",
        "  data_path = os.path.join(json_path,subpath2)\n",
        "  damage_path = os.path.join(json_path,subpath3)\n",
        "  output = solve(img_path,data_path,damage_path)\n",
        "  for i in output:\n",
        "    print(i)\n",
        "  print()"
      ],
      "metadata": {
        "colab": {
          "base_uri": "https://localhost:8080/"
        },
        "id": "3hIGsrd8-9SL",
        "outputId": "af243f83-0f73-406e-d73a-605427dd7f43"
      },
      "execution_count": null,
      "outputs": [
        {
          "output_type": "stream",
          "name": "stdout",
          "text": [
            "Found 2 Dent&Scratch(zoom) on part Bumper with percentage 4.908251709342389\n",
            "\n",
            "Found 1 Dent&Scratch on part Bumper with percentage 1.6164428416402563\n",
            "Found 1 Dent&Scratch on part Light with percentage 2.4089991014091106\n",
            "Found 1 Dent&Scratch on part Bonnet with percentage 0.3652208958639137\n",
            "Found 2 Dent&Scratch on part Fender with percentage 33.84295869041098\n",
            "Found 1 Dent&Scratch on part Door with percentage 27.025451413905035\n",
            "\n",
            "Found 3 Dent&Scratch on part Bumper with percentage 2.5321780561542644\n",
            "\n",
            "Found 1 Dent&Scratch on part Light with percentage 1.7022935075758017\n",
            "Found 1 Dent&Scratch on part Door with percentage 44.30896955635947\n",
            "Found 1 Dent&Scratch on part RockerPanel with percentage 1.196950985316282\n",
            "Found 1 Dent&Scratch on part Fender with percentage 99.98886789412782\n",
            "\n",
            "Found 1 Broken on part Bonnet with percentage 0.851846009179435\n",
            "Found 1 Broken on part Windshield with percentage 98.9786505398943\n",
            "Found 1 Broken on part Roof with percentage 0.09131893932338693\n",
            "\n"
          ]
        }
      ]
    },
    {
      "cell_type": "code",
      "source": [
        "def get_denormalized_cordinates(data_path):\n",
        "  denormalized_points = []\n",
        "  data = open(data_path)\n",
        "  info = json.load(data)\n",
        "  for i in info:\n",
        "    if(i['type']==\"polygonlabels\"):\n",
        "      points = i['value']['points']\n",
        "      width = i['original_width']\n",
        "      height = i['original_height']\n",
        "      for j in range(np.shape(points)[0]):\n",
        "        points[j][0] = points[j][0]*width/100\n",
        "        points[j][1] = points[j][1]*height/100\n",
        "      carpart = i['value']['polygonlabels']\n",
        "      temp = {}\n",
        "      points = np.asarray(points,np.int32)\n",
        "      temp['id'] = i['id']\n",
        "      temp['part'] = carpart\n",
        "      temp['points'] = points\n",
        "      denormalized_points.append(temp)\n",
        "  data.close()\n",
        "  return denormalized_points"
      ],
      "metadata": {
        "id": "YCu_5NgO_bHZ"
      },
      "execution_count": null,
      "outputs": []
    },
    {
      "cell_type": "code",
      "source": [
        "def solve(img_path,data_path,damage_path):\n",
        "  a = []\n",
        "  carparts = get_denormalized_cordinates(data_path)\n",
        "  damages = get_denormalized_cordinates(damage_path)\n",
        "  for i in carparts:\n",
        "    for j in damages:\n",
        "      p1 = Polygon(i['points'])\n",
        "      p2 = Polygon(j['points'])\n",
        "      if (p1.intersects(p2)==True):\n",
        "        dictionary = {}\n",
        "        dictionary['part-id'] = i['id']\n",
        "        dictionary['part'] = i['part']\n",
        "        dictionary['damages'] = j['part']\n",
        "        dictionary['carpoly'] = i['points']\n",
        "        dictionary['damagepoly'] = j['points']\n",
        "        a.append(dictionary)\n",
        "  ans = {}\n",
        "  for i in a:\n",
        "    if i['part-id'] in ans:\n",
        "      p2 = i['damagepoly']\n",
        "      p2 = Polygon(p2)\n",
        "      temp['damage'] = temp['damage'] + p1.intersection(p2).area\n",
        "      temp['count'] = temp['count'] + 1\n",
        "    else:\n",
        "      temp = {}\n",
        "      temp['name'] = i['part']\n",
        "      temp['damages'] = j['part']\n",
        "      p1 = i['carpoly']\n",
        "      p2 = i['damagepoly']\n",
        "      p1 = Polygon(p1)\n",
        "      p2 = Polygon(p2) \n",
        "      temp['count'] = 1\n",
        "      temp['area'] = p1.area\n",
        "      temp['damage'] = p1.intersection(p2).area\n",
        "      ans[i['part-id']] = temp\n",
        "  # print(ans)\n",
        "  string = []\n",
        "  for i in ans:\n",
        "    temp = \"Found \" + str(ans[i]['count']) + \" \" + ans[i]['damages'][0] + \" on part \" + ans[i]['name'][0] + \" with percentage \" + str(ans[i]['damage']*100/ans[i]['area'])\n",
        "    string.append(temp)\n",
        "  return string"
      ],
      "metadata": {
        "id": "BEuVpjwL_RUu"
      },
      "execution_count": null,
      "outputs": []
    },
    {
      "cell_type": "code",
      "source": [
        ""
      ],
      "metadata": {
        "id": "QNCAcWruNwDE"
      },
      "execution_count": null,
      "outputs": []
    }
  ]
}